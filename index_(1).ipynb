{
  "cells": [
    {
      "cell_type": "markdown",
      "metadata": {
        "id": "view-in-github",
        "colab_type": "text"
      },
      "source": [
        "<a href=\"https://colab.research.google.com/github/VolhaP87/dsc-introduction-to-keras/blob/master/index_(1).ipynb\" target=\"_parent\"><img src=\"https://colab.research.google.com/assets/colab-badge.svg\" alt=\"Open In Colab\"/></a>"
      ]
    },
    {
      "cell_type": "markdown",
      "metadata": {
        "id": "diTqRpfNX7oc"
      },
      "source": [
        "# Introduction to Keras"
      ]
    },
    {
      "cell_type": "markdown",
      "metadata": {
        "id": "3GiILJwOX7oe"
      },
      "source": [
        "## Introduction\n",
        "\n",
        "Thus far we have a solid basic conceptual understanding of neural networks and their basic architecture. We've seen neural networks for classification including a neural network with no hidden layers (logistic regression), one hidden layer, and several hidden layers. From here, we'll begin to use Keras, a package that has prebuilt many of the building blocks of neural networks which we investigated in previous lessons.  \n",
        "\n",
        "## Objectives\n",
        "\n",
        "You will be able to:\n",
        "\n",
        "- Define a tensor \n",
        "- Perform tensor slicing \n",
        "- Explain the different tensor operations (element-wise, broadcast, and dot product) \n",
        "- Explain how an epoch and batch relate to one another \n",
        "- Explain the steps to build a neural network in Keras \n",
        "\n",
        "\n"
      ]
    },
    {
      "cell_type": "markdown",
      "metadata": {
        "id": "xSHtLmYVX7of"
      },
      "source": [
        "## Taking a step back: tensors and data representations"
      ]
    },
    {
      "cell_type": "markdown",
      "metadata": {
        "id": "kK9Hvvu_X7of"
      },
      "source": [
        "Until now, we haven't really discussed the shape of our data in detail. Let's briefly discuss data representations in neural networks (the building blocks are \"tensors\"). "
      ]
    },
    {
      "cell_type": "markdown",
      "metadata": {
        "id": "UeRHm5H9X7og"
      },
      "source": [
        "- Scalars = 0D tensors\n",
        "- Vectors = 1D tensors\n",
        "- Matrices = 2D tensors\n",
        "- 3D tensors"
      ]
    },
    {
      "cell_type": "markdown",
      "metadata": {
        "id": "-HRWUjtaX7og"
      },
      "source": [
        "A tensor is defined by three key attributes:\n",
        "- rank or number of axes\n",
        "- the shape\n",
        "- the data type"
      ]
    },
    {
      "cell_type": "markdown",
      "metadata": {
        "id": "B5uTiSknX7og"
      },
      "source": [
        "## Some important data manipulations in NumPy"
      ]
    },
    {
      "cell_type": "markdown",
      "metadata": {
        "id": "lT72GsLpX7og"
      },
      "source": [
        "### Unrowing matrices (important for images)"
      ]
    },
    {
      "cell_type": "markdown",
      "metadata": {
        "id": "48HwhLLJX7oh"
      },
      "source": [
        "eg Santa: `(790, 64, 64, 3)` matrix to a `(64*64*3, 790)` matrix!\n",
        "\n",
        "```python \n",
        "img_unrow = img.reshape(790, -1).T  \n",
        "```"
      ]
    },
    {
      "cell_type": "markdown",
      "metadata": {
        "id": "145joR5LX7oi"
      },
      "source": [
        "### Increasing the rank"
      ]
    },
    {
      "cell_type": "markdown",
      "metadata": {
        "id": "mYwTUH0KX7oi"
      },
      "source": [
        "vector with `np.shape() (790,)`\n",
        "\n",
        "```python\n",
        "np.reshape(vector, (1,790)) \n",
        "```\n"
      ]
    },
    {
      "cell_type": "markdown",
      "metadata": {
        "id": "8fNx-6haX7oi"
      },
      "source": [
        "### Tensor slicing\n",
        "\n",
        "We've actually already seen this in previous lectures and labs, although not explicitly. Just like Python's native lists, or NumPy arrays, we can slice tensors using the usual syntax:  \n",
        "\n",
        "```python  \n",
        "tensor[start_idx : end_idx]\n",
        "```\n",
        "\n",
        "As with lists and NumPy arrays, this will include the `start_idx` element up to, but not including the `end_idx` element.\n",
        "\n",
        "Below is a brief example: "
      ]
    },
    {
      "cell_type": "code",
      "source": [
        "from zipfile import ZipFile\n",
        "data = '/content/index_files.zip'\n",
        "with ZipFile(data, 'r') as zip:\n",
        "  zip.extractall()\n",
        "  print(\"Done\")"
      ],
      "metadata": {
        "colab": {
          "base_uri": "https://localhost:8080/"
        },
        "id": "haMO7QQBYfpC",
        "outputId": "f483ac96-1177-4eeb-8134-33faf59650e4"
      },
      "execution_count": 1,
      "outputs": [
        {
          "output_type": "stream",
          "name": "stdout",
          "text": [
            "Done\n"
          ]
        }
      ]
    },
    {
      "cell_type": "code",
      "execution_count": 2,
      "metadata": {
        "colab": {
          "base_uri": "https://localhost:8080/",
          "height": 390
        },
        "id": "IAgHiAjoX7oj",
        "outputId": "2d678747-7c0f-45a5-9453-9e5187da3a77"
      },
      "outputs": [
        {
          "output_type": "stream",
          "name": "stdout",
          "text": [
            "Downloading data from https://storage.googleapis.com/tensorflow/tf-keras-datasets/mnist.npz\n",
            "11493376/11490434 [==============================] - 0s 0us/step\n",
            "11501568/11490434 [==============================] - 0s 0us/step\n",
            "Raw Tensor shape: (60000, 28, 28)\n",
            "Tensor Slice [0:100] shape: (100, 28, 28)\n",
            "Tensor Slice [0:100] shape: (100, 28, 28)\n",
            "Tensor Slice [0:100] shape: (100, 28, 28)\n"
          ]
        },
        {
          "output_type": "display_data",
          "data": {
            "text/plain": [
              "<Figure size 432x288 with 1 Axes>"
            ],
            "image/png": "[encoded data removed]"
          },
          "metadata": {
            "needs_background": "light"
          }
        }
      ],
      "source": [
        "from keras.datasets import mnist\n",
        "import matplotlib.pyplot as plt\n",
        "%matplotlib inline  \n",
        "\n",
        "(train_images, train_labels), (test_images, test_labels) = mnist.load_data()\n",
        "digit = train_images[10] # Select an arbitrary case for our example\n",
        "\n",
        "# Checking the shape of our tensor (in this case, the image)\n",
        "print('Raw Tensor shape:', train_images.shape)\n",
        "\n",
        "# Now performing some slices of our image:\n",
        "print('Tensor Slice [0:100] shape:', train_images[:100].shape)\n",
        "\n",
        "# Equivalently\n",
        "print('Tensor Slice [0:100] shape:', train_images[:100, :, :].shape)\n",
        "\n",
        "# Or verbosely:\n",
        "print('Tensor Slice [0:100] shape:', train_images[:100, :28, :28].shape)\n",
        "\n",
        "# Display an example image for context\n",
        "plt.imshow(digit, cmap=plt.cm.binary) \n",
        "plt.show()"
      ]
    },
    {
      "cell_type": "markdown",
      "metadata": {
        "id": "pfbVax_8X7oj"
      },
      "source": [
        "In the above example, we sliced our tensor to obtain 100 of the 60,000 images. You can also slice tensors along other axes. For example, the first dimension is which image we are referring to, while the second and third axes are the pixels of these images themselves. For example, we could limit the images to the bottom right hand quadrant like this:"
      ]
    },
    {
      "cell_type": "code",
      "execution_count": 3,
      "metadata": {
        "colab": {
          "base_uri": "https://localhost:8080/",
          "height": 283
        },
        "id": "CmOuX06rX7ok",
        "outputId": "2fdde703-fed4-4cd1-c070-396ee2e43dca"
      },
      "outputs": [
        {
          "output_type": "stream",
          "name": "stdout",
          "text": [
            "Sliced tensor shape (includes all images but only the lower right hand corner of each: (60000, 14, 14)\n"
          ]
        },
        {
          "output_type": "display_data",
          "data": {
            "text/plain": [
              "<Figure size 432x288 with 1 Axes>"
            ],
            "image/png": "[encoded data removed]"
          },
          "metadata": {
            "needs_background": "light"
          }
        }
      ],
      "source": [
        "lower_right_quadrant = train_images[:,14:,14:]\n",
        "print('Sliced tensor shape (includes all images but only the lower right hand corner of each:',\n",
        "      lower_right_quadrant.shape)\n",
        "plt.imshow(lower_right_quadrant[10], cmap=plt.cm.binary) # Display the 10th image from our sliced tensor\n",
        "plt.show()"
      ]
    },
    {
      "cell_type": "markdown",
      "metadata": {
        "id": "YsluO0vOX7ok"
      },
      "source": [
        "### Tensor Operations\n",
        "    * Element-wise\n",
        "    * Broadcasting\n",
        "    * Tensor dot\n",
        "    \n",
        "These are the three main operations that you will see in future implementations. Element-wise addition (or other operations) simply updates each element with the corresponding element from another tensor. For example, here is the result of an element-wise addition of two NumPy arrays:"
      ]
    },
    {
      "cell_type": "code",
      "execution_count": 4,
      "metadata": {
        "colab": {
          "base_uri": "https://localhost:8080/"
        },
        "id": "vfUGYg4VX7ol",
        "outputId": "cd4a0d9f-42c0-433d-ac11-962c0901aa5e"
      },
      "outputs": [
        {
          "output_type": "execute_result",
          "data": {
            "text/plain": [
              "array([ 6,  8, 10, 12])"
            ]
          },
          "metadata": {},
          "execution_count": 4
        }
      ],
      "source": [
        "import numpy as np\n",
        "np.array([1, 2, 3, 4]) + np.array([5, 6, 7, 8])"
      ]
    },
    {
      "cell_type": "markdown",
      "metadata": {
        "id": "WTzZVOi9X7ol"
      },
      "source": [
        "Broadcasting operations can be used when tensors are of different dimensions. For example, we could add the vector `[1, 2, 3]` to a 3 by 4 matrix like this:"
      ]
    },
    {
      "cell_type": "code",
      "execution_count": 5,
      "metadata": {
        "colab": {
          "base_uri": "https://localhost:8080/"
        },
        "id": "XdUt73U_X7ol",
        "outputId": "a2926122-ba40-444d-9f34-356f193e7fb2"
      },
      "outputs": [
        {
          "output_type": "stream",
          "name": "stdout",
          "text": [
            "A:\n",
            " [[ 0  1  2]\n",
            " [ 3  4  5]\n",
            " [ 6  7  8]\n",
            " [ 9 10 11]] \n",
            "\n",
            "B: [1 2 3] \n",
            "\n",
            "Updated A:\n",
            " [[ 1  3  5]\n",
            " [ 4  6  8]\n",
            " [ 7  9 11]\n",
            " [10 12 14]]\n"
          ]
        }
      ],
      "source": [
        "A = np.array(range(12)).reshape(4,3)\n",
        "print('A:\\n', A, '\\n')\n",
        "\n",
        "B = np.array([1, 2, 3]) #.reshape(1, -1)\n",
        "print('B:', B, '\\n')\n",
        "\n",
        "A += B # Update with broadcasting\n",
        "print('Updated A:\\n', A)"
      ]
    },
    {
      "cell_type": "markdown",
      "metadata": {
        "id": "4Tf_kz6gX7ol"
      },
      "source": [
        "Noticed how B was broadcasted across A; a copy of B was added to each row in A.\n",
        "Finally, as with our previous work with linear algebra, we will also commonly take the dot product of tensors.\n",
        "Recall that this is the sum of the element-wise products. Let's start with a very simple example:"
      ]
    },
    {
      "cell_type": "code",
      "execution_count": 6,
      "metadata": {
        "colab": {
          "base_uri": "https://localhost:8080/"
        },
        "id": "Z8kzgs5hX7ol",
        "outputId": "c7722934-08db-4f55-95e2-3a0a4e0f9533"
      },
      "outputs": [
        {
          "output_type": "stream",
          "name": "stdout",
          "text": [
            "14\n"
          ]
        }
      ],
      "source": [
        "# Recall that B is the vector [1, 2, 3]\n",
        "# Taking the dot product of B and itself is equivalent to\n",
        "# 1*1 + 2*2 + 3*3 = 1 + 4 + 9 = 14\n",
        "print(np.dot(B,B))"
      ]
    },
    {
      "cell_type": "markdown",
      "metadata": {
        "id": "wbBdNmAaX7om"
      },
      "source": [
        "Examining a slightly more complex example:"
      ]
    },
    {
      "cell_type": "code",
      "execution_count": 7,
      "metadata": {
        "colab": {
          "base_uri": "https://localhost:8080/"
        },
        "id": "pWTmT8OQX7om",
        "outputId": "cb8d589d-3e6b-41aa-e629-bdf7f681b921"
      },
      "outputs": [
        {
          "output_type": "stream",
          "name": "stdout",
          "text": [
            "A:\n",
            " [[ 0  1  2]\n",
            " [ 3  4  5]\n",
            " [ 6  7  8]\n",
            " [ 9 10 11]] \n",
            "\n",
            "B: [1 2 3] \n",
            "\n"
          ]
        },
        {
          "output_type": "execute_result",
          "data": {
            "text/plain": [
              "array([ 8, 26, 44, 62])"
            ]
          },
          "metadata": {},
          "execution_count": 7
        }
      ],
      "source": [
        "A = np.array(range(12)).reshape(4, 3)\n",
        "print('A:\\n', A, '\\n')\n",
        "\n",
        "B = np.array([1,2,3]) #.reshape(1, -1)\n",
        "print('B:', B, '\\n')\n",
        "\n",
        "np.dot(A, B)"
      ]
    },
    {
      "cell_type": "markdown",
      "metadata": {
        "id": "9mG-0dAGX7om"
      },
      "source": [
        "Here the first element is the sum of the first row of $A$ multiplied by $B$ elementwise:  \n",
        "$$ 0*1 + 1*2 + 2*3 = 0 + 2 + 6 = 8 $$ \n",
        "\n",
        "Followed by the sum of the second row of $A$ multiplied by $B$ elementwise:  \n",
        "\n",
        "$$ 3*1 + 4*2 + 5*3 = 3 + 8 + 15 = 26 $$\n",
        "\n",
        "and so on."
      ]
    },
    {
      "cell_type": "markdown",
      "metadata": {
        "id": "CJFZ4R36X7om"
      },
      "source": [
        "## Build a Neural Network with Keras"
      ]
    },
    {
      "cell_type": "markdown",
      "metadata": {
        "id": "9jPIPFeYX7om"
      },
      "source": [
        "### Importing the packages\n",
        "\n",
        "As usual, we need to import some classes..."
      ]
    },
    {
      "cell_type": "code",
      "execution_count": 8,
      "metadata": {
        "id": "RorYeiADX7om"
      },
      "outputs": [],
      "source": [
        "from keras import models\n",
        "from keras import layers\n",
        "from keras import optimizers"
      ]
    },
    {
      "cell_type": "markdown",
      "metadata": {
        "id": "w0yP4Bz-X7om"
      },
      "source": [
        "### Decide on the network architecture\n",
        "\n",
        "Afterwards, we define the type of network. We will discuss other network types later, but to date, we have examined sequential models; one layer builds upon the previous one and continues to chain until the end."
      ]
    },
    {
      "cell_type": "markdown",
      "metadata": {
        "id": "Tei_8iXxX7om"
      },
      "source": [
        "```python\n",
        "model = models.Sequential()\n",
        "```"
      ]
    },
    {
      "cell_type": "markdown",
      "metadata": {
        "id": "wycAG4CaX7on"
      },
      "source": [
        "### Add layers\n",
        "\n",
        "Once we have initialized a network object as shown above, we can then add layers to the network which includes the number of layers we wish to add, as well as which activation function we want to use. For example, when coding from scratch, we previously used the sigmoid and ReLu activation functions.   \n",
        "\n",
        "The `Dense()` class indicates that this layer will be fully connected. There are other layer architectures that we will discuss further in upcoming labs and lessons.\n",
        "\n",
        "Finally, the `input_shape` parameter is often optional. That is, in successive layers, Keras implies the required shape of the layer to be added based on the shape of the previous layer."
      ]
    },
    {
      "cell_type": "markdown",
      "metadata": {
        "id": "u4I49tI-X7on"
      },
      "source": [
        "```python\n",
        "model.add(layers.Dense(units, activation, input_shape))\n",
        "```"
      ]
    },
    {
      "cell_type": "markdown",
      "metadata": {
        "id": "TcCJPvm1X7on"
      },
      "source": [
        "### Compile the model\n",
        "\n",
        "Once we have defined the network architecture and added layers to that network, we then compile the model before then training that model on our data.  "
      ]
    },
    {
      "cell_type": "markdown",
      "metadata": {
        "id": "CP9X27QKX7on"
      },
      "source": [
        "```python\n",
        "model.compile(optimizer=optimizers.RMSprop(lr=0.001),\n",
        "              loss='mse',\n",
        "              metrics=['accuracy'])\n",
        "```"
      ]
    },
    {
      "cell_type": "markdown",
      "metadata": {
        "id": "zQrLQj4hX7on"
      },
      "source": [
        "Notice that this is also where we specify our loss function. "
      ]
    },
    {
      "cell_type": "markdown",
      "metadata": {
        "id": "_kyXJayjX7on"
      },
      "source": [
        "### Train the model"
      ]
    },
    {
      "cell_type": "markdown",
      "metadata": {
        "id": "MQg1raKDX7on"
      },
      "source": [
        "```python\n",
        "history = model.fit(x_train,\n",
        "                    y_train,\n",
        "                    epochs=20,\n",
        "                    batch_size=512,\n",
        "                    validation_data=(x_val, y_val))\n",
        "```"
      ]
    },
    {
      "cell_type": "markdown",
      "metadata": {
        "id": "E2XwqUC-X7on"
      },
      "source": [
        "Why batches? If you push all your samples through at once, you have to wait until everything is processed and can only start backpropagating then. Therefore, batches are used, so that after each batch has done a forward propagation step, backward propagation can happen again. In essence, it's \"mini-batch\" gradient descent.\n",
        "\n",
        "\n",
        "Here's some further notes regarding these terms from the Keras documentation FAQ:\n",
        "\n",
        "\n",
        "* **Sample**: one element of a dataset.  \n",
        "    * *Example*: one image is a sample in a convolutional network  \n",
        "    * *Example*: one audio file is a sample for a speech recognition model  \n",
        "    \n",
        "* **Batch**: a set of $N$ samples. The samples in a batch are processed independently, in parallel. If training, a batch results in only one update to the model.  \n",
        "* A batch generally approximates the distribution of the input data better than a single input. The larger the batch, the better the approximation; however, it is also true that the batch will take longer to process and will still result in only one update. For inference (evaluate/predict), it is recommended to pick a batch size that is as large as you can afford without going out of memory (since larger batches will usually result in faster evaluation/prediction).\n",
        "* **Epoch**: an arbitrary cutoff, generally defined as \"one pass over the entire dataset\", used to separate training into distinct phases, which is useful for logging and periodic evaluation.\n",
        "* When using `validation_data` or `validation_split` with the `.fit()` method of Keras models, evaluation will be run at the end of every epoch.\n",
        "* Within Keras, there is the ability to add callbacks specifically designed to be run at the end of an epoch. Examples of these are learning rate changes and model checkpointing (saving).\n"
      ]
    },
    {
      "cell_type": "markdown",
      "metadata": {
        "id": "710CakMjX7on"
      },
      "source": [
        "### Plot\n",
        "\n",
        "When we fit the model as shown above, we not only update the model object itself, we are also returned a history associated with the model. (Hence our variable name.) With this, we can retrieve further information regarding how the model training progressed from epoch to epoch. To do this, you can access the `.history` attribute of the returned object. Given our variable naming above, we would thus have:\n",
        "\n",
        "`history.history`\n",
        "\n",
        "This will return a dictionary of the metrics we indicated when compiling the model. By default, the loss criteria will always be included as well. So in our example, this dictionary will have two keys, one for the loss, and one for the accuracy. If you wish to plot learning curves for the loss or accuracy versus the epochs, you can then simply retrieve these lists. For example:\n",
        "\n",
        "`history.history['loss']`\n",
        "\n",
        "would return a list of the loss at each epoch."
      ]
    },
    {
      "cell_type": "markdown",
      "metadata": {
        "id": "rEWX0n7mX7on"
      },
      "source": [
        "## Make Predictions\n",
        "\n",
        "As with scikit-learn and other packages, making predictions from a trained model is relatively straightforward. To do this, you can simply use the `.predict()` method built into the model object. For example:   \n",
        "\n",
        "```python\n",
        "y_hat = model.predict(x)\n",
        "```"
      ]
    },
    {
      "cell_type": "markdown",
      "metadata": {
        "id": "su_r7wgkX7oo"
      },
      "source": [
        "## Evaluate the Model\n",
        "\n",
        "Similarly, we can use the `.evaluate()` method in order to compute the loss and other specified metrics for our trained model.\n",
        "\n",
        "For example,   \n",
        "\n",
        "```python\n",
        "model.evaluate(X_train, X_train_labels)\n",
        "``` \n",
        "\n",
        "will return the final loss associated with the model for the training data as well as any other metrics that were specified during compilation.\n",
        "\n",
        "Similarly, \n",
        "\n",
        "```python\n",
        "model.evaluate(X_test, X_test_labels)\n",
        "``` \n",
        "will return the final loss associated with the model for the test data as well as any other specified metrics.\n"
      ]
    },
    {
      "cell_type": "markdown",
      "metadata": {
        "id": "S7G407vaX7oo"
      },
      "source": [
        "## Additional Resources\n",
        "    \n",
        "* https://keras.io/getting-started/\n",
        "* https://keras.io/getting-started/sequential-model-guide/#compilation\n",
        "* https://www.coursera.org/learn/deep-neural-network/lecture/BhJlm/rmsprop\n",
        "* https://www.coursera.org/learn/deep-neural-network/lecture/qcogH/mini-batch-gradient-descent\n",
        "* A full book on Keras by the author of Keras himself:  \n",
        "    https://www.manning.com/books/deep-learning-with-python"
      ]
    },
    {
      "cell_type": "markdown",
      "metadata": {
        "id": "SEIj8mN3X7oo"
      },
      "source": [
        "## Summary\n",
        "\n",
        "In this lesson, we introduced some of the basic components of building a neural network using Keras. In the upcoming lab, you will put these concepts to practice."
      ]
    }
  ],
  "metadata": {
    "kernelspec": {
      "display_name": "Python 3",
      "language": "python",
      "name": "python3"
    },
    "language_info": {
      "codemirror_mode": {
        "name": "ipython",
        "version": 3
      },
      "file_extension": ".py",
      "mimetype": "text/x-python",
      "name": "python",
      "nbconvert_exporter": "python",
      "pygments_lexer": "ipython3",
      "version": "3.8.5"
    },
    "colab": {
      "name": "index (1).ipynb",
      "provenance": [],
      "include_colab_link": true
    }
  },
  "nbformat": 4,
  "nbformat_minor": 0
}